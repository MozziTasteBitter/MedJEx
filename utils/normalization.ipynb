{
 "cells": [
  {
   "cell_type": "code",
   "execution_count": 1,
   "id": "4fbe2da2-1380-4c26-b733-77adcfdded0e",
   "metadata": {},
   "outputs": [],
   "source": [
    "import torch\n",
    "import torch.nn as nn\n"
   ]
  },
  {
   "cell_type": "code",
   "execution_count": 2,
   "id": "521e6fce-994f-4430-a86d-482a91206a25",
   "metadata": {},
   "outputs": [],
   "source": [
    "class min_max_normalization:\n",
    "    def __init__(self, weights):\n",
    "        self.max = max(weights)\n",
    "        self.min = min(weights)\n",
    "        \n",
    "    def get_normalized_results(self, val):\n",
    "        return (val - self.min) / (self.max - self.min)"
   ]
  },
  {
   "cell_type": "code",
   "execution_count": 3,
   "id": "3fc8f57d-8ee2-455d-8a94-df37d8b2b881",
   "metadata": {},
   "outputs": [],
   "source": [
    "class normalization(object):\n",
    "    def __init__(self,train_split):\n",
    "        self.weights = {'term_frequency': [], \n",
    "                        'MLM_weight': []}\n",
    "        \n",
    "        self.normalizer = {}\n",
    "        for train_data in train_split:\n",
    "            concepts = train_data['UMLS_concepts']\n",
    "            \n",
    "            for index, concept in enumerate(concepts):\n",
    "                for key in weights.keys():\n",
    "                    self.weights[key].append(concept[key])\n",
    "    \n",
    "    def set_TF_normalizer(self):\n",
    "        TF_weights = self.weights['term_frequency']\n",
    "        \n",
    "        self.normalizer['term_frequency'] = min_max_normalization(TF_weights)"
   ]
  },
  {
   "cell_type": "code",
   "execution_count": null,
   "id": "694a7d58-cc3b-439f-bd2a-983b8ad7fc24",
   "metadata": {},
   "outputs": [],
   "source": []
  }
 ],
 "metadata": {
  "kernelspec": {
   "display_name": "Python 3 (ipykernel)",
   "language": "python",
   "name": "python3"
  },
  "language_info": {
   "codemirror_mode": {
    "name": "ipython",
    "version": 3
   },
   "file_extension": ".py",
   "mimetype": "text/x-python",
   "name": "python",
   "nbconvert_exporter": "python",
   "pygments_lexer": "ipython3",
   "version": "3.7.11"
  }
 },
 "nbformat": 4,
 "nbformat_minor": 5
}
