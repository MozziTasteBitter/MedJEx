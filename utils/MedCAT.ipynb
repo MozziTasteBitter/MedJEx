{
 "cells": [
  {
   "cell_type": "code",
   "execution_count": 9,
   "id": "522740a5-1ab0-412d-9b93-88183271769c",
   "metadata": {},
   "outputs": [],
   "source": [
    "# ! pip install medcat==0.3.3.1\n",
    "# # Get the scispacy model\n",
    "# ! pip install https://s3-us-west-2.amazonaws.com/ai2-s2-scispacy/releases/v0.2.4/en_core_sci_md-0.2.4.tar.gz"
   ]
  },
  {
   "cell_type": "code",
   "execution_count": 10,
   "id": "07f33a6c-ff8a-462d-a80e-6590153a0238",
   "metadata": {},
   "outputs": [],
   "source": [
    "import pandas as pd\n",
    "import numpy as np\n",
    "#import seaborn as sns\n",
    "from matplotlib import pyplot as plt\n",
    "\n"
   ]
  },
  {
   "cell_type": "code",
   "execution_count": 11,
   "id": "9c4e9b46-d70b-4cf7-a80e-7aef977c4650",
   "metadata": {},
   "outputs": [
    {
     "name": "stderr",
     "output_type": "stream",
     "text": [
      "/home/sunjaekwon/anaconda3/envs/JargonTerm/lib/python3.7/site-packages/medcat/cat.py:18: TqdmExperimentalWarning: Using `tqdm.autonotebook.tqdm` in notebook mode. Use `tqdm.tqdm` instead to force console mode (e.g. in jupyter console)\n",
      "  from tqdm.autonotebook import tqdm, trange\n"
     ]
    },
    {
     "name": "stdout",
     "output_type": "stream",
     "text": [
      "Found an existing unziped model pack at: /mnt/nfs/scratch1/sunjaekwon/UMLS/MedCAT/umls_sm_wstatus_2021_oct, the provided zip will not be touched.\n",
      "{\n",
      "  \"Model ID\": null,\n",
      "  \"Last Modifed On\": null,\n",
      "  \"History (from least to most recent)\": [],\n",
      "  \"Description\": \"No description\",\n",
      "  \"Source Ontology\": null,\n",
      "  \"Location\": null,\n",
      "  \"MetaCAT models\": {},\n",
      "  \"Basic CDB Stats\": {},\n",
      "  \"Performance\": {\n",
      "    \"ner\": {},\n",
      "    \"meta\": {}\n",
      "  },\n",
      "  \"Important Parameters (Partial view, all available in cat.config)\": {\n",
      "    \"config.ner['min_name_len']\": {\n",
      "      \"value\": 3,\n",
      "      \"description\": \"Minimum detection length (found terms/mentions shorter than this will not be detected).\"\n",
      "    },\n",
      "    \"config.ner['upper_case_limit_len']\": {\n",
      "      \"value\": 3,\n",
      "      \"description\": \"All detected terms shorter than this value have to be uppercase, otherwise they will be ignored.\"\n",
      "    },\n",
      "    \"config.linking['similarity_threshold']\": {\n",
      "      \"value\": 0.2,\n",
      "      \"description\": \"If the confidence of the model is lower than this a detection will be ignore.\"\n",
      "    },\n",
      "    \"config.general['spell_check']\": {\n",
      "      \"value\": true,\n",
      "      \"description\": \"Is spell checking enabled.\"\n",
      "    },\n",
      "    \"config.general['spell_check_len_limit']\": {\n",
      "      \"value\": 7,\n",
      "      \"description\": \"Words shorter than this will not be spell checked.\"\n",
      "    }\n",
      "  }\n",
      "}\n"
     ]
    }
   ],
   "source": [
    "from medcat.cat import CAT\n",
    "\n",
    "UMLS_MedCAT_PATH = '/mnt/nfs/scratch1/sunjaekwon/UMLS/MedCAT/umls_sm_wstatus_2021_oct.zip'\n",
    "cat = CAT.load_model_pack(UMLS_MedCAT_PATH)"
   ]
  },
  {
   "cell_type": "code",
   "execution_count": 12,
   "id": "d96cdeeb-767f-4074-974e-ec4a9e9bf696",
   "metadata": {},
   "outputs": [
    {
     "data": {
      "text/plain": [
       "{'entities': {0: {'pretty_name': 'Tension',\n",
       "   'cui': 'C0233494',\n",
       "   'type_ids': ['T048'],\n",
       "   'types': ['Mental or Behavioral Dysfunction'],\n",
       "   'source_value': 'tensions',\n",
       "   'detected_name': 'tension',\n",
       "   'acc': 1.0,\n",
       "   'context_similarity': 1.0,\n",
       "   'start': 4,\n",
       "   'end': 12,\n",
       "   'icd10': [],\n",
       "   'ontologies': [],\n",
       "   'snomed': ['S-53489000'],\n",
       "   'id': 0,\n",
       "   'meta_anns': {'Status': {'value': 'Affirmed',\n",
       "     'confidence': 0.9998536109924316,\n",
       "     'name': 'Status'}}},\n",
       "  1: {'pretty_name': 'Neck',\n",
       "   'cui': 'C0027530',\n",
       "   'type_ids': ['T029'],\n",
       "   'types': ['Body Location or Region'],\n",
       "   'source_value': 'neck',\n",
       "   'detected_name': 'neck',\n",
       "   'acc': 0.99,\n",
       "   'context_similarity': 0.99,\n",
       "   'start': 35,\n",
       "   'end': 39,\n",
       "   'icd10': [],\n",
       "   'ontologies': [],\n",
       "   'snomed': ['S-45048000'],\n",
       "   'id': 1,\n",
       "   'meta_anns': {'Status': {'value': 'Affirmed',\n",
       "     'confidence': 0.9996891617774963,\n",
       "     'name': 'Status'}}},\n",
       "  2: {'pretty_name': 'Neck',\n",
       "   'cui': 'C0027530',\n",
       "   'type_ids': ['T029'],\n",
       "   'types': ['Body Location or Region'],\n",
       "   'source_value': 'neck',\n",
       "   'detected_name': 'neck',\n",
       "   'acc': 0.99,\n",
       "   'context_similarity': 0.99,\n",
       "   'start': 44,\n",
       "   'end': 48,\n",
       "   'icd10': [],\n",
       "   'ontologies': [],\n",
       "   'snomed': ['S-45048000'],\n",
       "   'id': 2,\n",
       "   'meta_anns': {'Status': {'value': 'Affirmed',\n",
       "     'confidence': 0.9998431205749512,\n",
       "     'name': 'Status'}}}},\n",
       " 'tokens': []}"
      ]
     },
     "execution_count": 12,
     "metadata": {},
     "output_type": "execute_result"
    }
   ],
   "source": [
    "cat.get_entities(\"the tensions that she holds in her neck and neck muscles\")"
   ]
  },
  {
   "cell_type": "code",
   "execution_count": 13,
   "id": "b7d50ba5-d33b-46fb-ab00-7131adfba699",
   "metadata": {},
   "outputs": [],
   "source": [
    "class MedCAT_wrapper(object):\n",
    "    def __init__(self, PATH):\n",
    "        self.cat = CAT.load_model_pack(PATH)\n",
    "    def match(self, sent, best_match=False, ignore_syntax=False):\n",
    "        entities = cat.get_entities(sent)['entities']\n",
    "        \n",
    "        concepts = []\n",
    "        for key in entities.keys():\n",
    "            entity = entities[key]\n",
    "            #print(entity)\n",
    "            concept = {'start': entity['start'], 'end': entity['end'],\n",
    "                       'cui': entity['cui'],\n",
    "                       'similarity': entity['context_similarity'],\n",
    "                       'semtypes': entity['type_ids'],\n",
    "                       'term': entity['detected_name'],\n",
    "                       'ngram': entity['source_value']}\n",
    "            \n",
    "            concepts.append([concept])\n",
    "        return concepts"
   ]
  },
  {
   "cell_type": "code",
   "execution_count": 14,
   "id": "7dc66ee5-5b13-4b8f-9378-612c87449580",
   "metadata": {},
   "outputs": [
    {
     "name": "stdout",
     "output_type": "stream",
     "text": [
      "Found an existing unziped model pack at: /mnt/nfs/scratch1/sunjaekwon/UMLS/MedCAT/umls_sm_wstatus_2021_oct, the provided zip will not be touched.\n",
      "{\n",
      "  \"Model ID\": null,\n",
      "  \"Last Modifed On\": null,\n",
      "  \"History (from least to most recent)\": [],\n",
      "  \"Description\": \"No description\",\n",
      "  \"Source Ontology\": null,\n",
      "  \"Location\": null,\n",
      "  \"MetaCAT models\": {},\n",
      "  \"Basic CDB Stats\": {},\n",
      "  \"Performance\": {\n",
      "    \"ner\": {},\n",
      "    \"meta\": {}\n",
      "  },\n",
      "  \"Important Parameters (Partial view, all available in cat.config)\": {\n",
      "    \"config.ner['min_name_len']\": {\n",
      "      \"value\": 3,\n",
      "      \"description\": \"Minimum detection length (found terms/mentions shorter than this will not be detected).\"\n",
      "    },\n",
      "    \"config.ner['upper_case_limit_len']\": {\n",
      "      \"value\": 3,\n",
      "      \"description\": \"All detected terms shorter than this value have to be uppercase, otherwise they will be ignored.\"\n",
      "    },\n",
      "    \"config.linking['similarity_threshold']\": {\n",
      "      \"value\": 0.2,\n",
      "      \"description\": \"If the confidence of the model is lower than this a detection will be ignore.\"\n",
      "    },\n",
      "    \"config.general['spell_check']\": {\n",
      "      \"value\": true,\n",
      "      \"description\": \"Is spell checking enabled.\"\n",
      "    },\n",
      "    \"config.general['spell_check_len_limit']\": {\n",
      "      \"value\": 7,\n",
      "      \"description\": \"Words shorter than this will not be spell checked.\"\n",
      "    }\n",
      "  }\n",
      "}\n"
     ]
    },
    {
     "data": {
      "text/plain": [
       "[[{'start': 4,\n",
       "   'end': 12,\n",
       "   'cui': 'C0233494',\n",
       "   'similarity': 1.0,\n",
       "   'semtypes': ['T048'],\n",
       "   'term': 'tension',\n",
       "   'ngram': 'tensions'}],\n",
       " [{'start': 35,\n",
       "   'end': 39,\n",
       "   'cui': 'C0027530',\n",
       "   'similarity': 0.99,\n",
       "   'semtypes': ['T029'],\n",
       "   'term': 'neck',\n",
       "   'ngram': 'neck'}],\n",
       " [{'start': 44,\n",
       "   'end': 48,\n",
       "   'cui': 'C0027530',\n",
       "   'similarity': 0.99,\n",
       "   'semtypes': ['T029'],\n",
       "   'term': 'neck',\n",
       "   'ngram': 'neck'}]]"
      ]
     },
     "execution_count": 14,
     "metadata": {},
     "output_type": "execute_result"
    }
   ],
   "source": [
    "matcher = MedCAT_wrapper('/mnt/nfs/scratch1/sunjaekwon/UMLS/MedCAT/umls_sm_wstatus_2021_oct.zip')\n",
    "matcher.match(\"the tensions that she holds in her neck and neck muscles\")"
   ]
  },
  {
   "cell_type": "code",
   "execution_count": 15,
   "id": "77774cbd-bb37-49ab-8280-154ea77ef9dc",
   "metadata": {},
   "outputs": [],
   "source": [
    "import pymetamap\n",
    "from pymetamap import MetaMap"
   ]
  },
  {
   "cell_type": "code",
   "execution_count": 16,
   "id": "1eaae83b-5cbe-4b32-b13e-3ccde0c19ea2",
   "metadata": {},
   "outputs": [],
   "source": [
    "mm = MetaMap.get_instance('/mnt/nfs/scratch1/sunjaekwon/UMLS/MetaMap/public_mm/bin/metamap20')"
   ]
  },
  {
   "cell_type": "code",
   "execution_count": 17,
   "id": "382ea856-fce9-44f2-8799-b1a6f1b82f22",
   "metadata": {},
   "outputs": [],
   "source": [
    "sents = ['Heart Attack', 'John had a huge heart attack']"
   ]
  },
  {
   "cell_type": "code",
   "execution_count": 18,
   "id": "b28d81aa-f221-4839-bc24-e6537ac665dd",
   "metadata": {},
   "outputs": [
    {
     "name": "stderr",
     "output_type": "stream",
     "text": [
      "/mnt/nfs/scratch1/sunjaekwon/UMLS/MetaMap/public_mm//bin/metamap2020.TEMPLATE: line 157: /home/sunjaekwon/UMLS/MetaMap/public_mm/bin/SKRrun.20: No such file or directory\n"
     ]
    },
    {
     "ename": "IndexError",
     "evalue": "list index out of range",
     "output_type": "error",
     "traceback": [
      "\u001b[0;31m---------------------------------------------------------------------------\u001b[0m",
      "\u001b[0;31mIndexError\u001b[0m                                Traceback (most recent call last)",
      "\u001b[0;32m/tmp/ipykernel_81822/2997544573.py\u001b[0m in \u001b[0;36m<module>\u001b[0;34m\u001b[0m\n\u001b[0;32m----> 1\u001b[0;31m \u001b[0mconcepts\u001b[0m\u001b[0;34m,\u001b[0m\u001b[0merror\u001b[0m \u001b[0;34m=\u001b[0m \u001b[0mmm\u001b[0m\u001b[0;34m.\u001b[0m\u001b[0mextract_concepts\u001b[0m\u001b[0;34m(\u001b[0m\u001b[0msents\u001b[0m\u001b[0;34m)\u001b[0m\u001b[0;34m\u001b[0m\u001b[0;34m\u001b[0m\u001b[0m\n\u001b[0m",
      "\u001b[0;32m~/anaconda3/envs/JargonTerm/lib/python3.7/site-packages/pymetamap-0.2-py3.7.egg/pymetamap/SubprocessBackend.py\u001b[0m in \u001b[0;36mextract_concepts\u001b[0;34m(self, sentences, ids, composite_phrase, filename, file_format, allow_acronym_variants, word_sense_disambiguation, allow_large_n, strict_model, relaxed_model, allow_overmatches, allow_concept_gaps, term_processing, no_derivational_variants, derivational_variants, ignore_word_order, unique_acronym_variants, prefer_multiple_concepts, ignore_stop_phrases, compute_all_mappings, prune, mm_data_version, exclude_sources, restrict_to_sources, restrict_to_sts, exclude_sts, no_nums)\u001b[0m\n\u001b[1;32m    241\u001b[0m                 \u001b[0mos\u001b[0m\u001b[0;34m.\u001b[0m\u001b[0mremove\u001b[0m\u001b[0;34m(\u001b[0m\u001b[0moutput_file\u001b[0m\u001b[0;34m.\u001b[0m\u001b[0mname\u001b[0m\u001b[0;34m)\u001b[0m\u001b[0;34m\u001b[0m\u001b[0;34m\u001b[0m\u001b[0m\n\u001b[1;32m    242\u001b[0m \u001b[0;34m\u001b[0m\u001b[0m\n\u001b[0;32m--> 243\u001b[0;31m         \u001b[0mconcepts\u001b[0m \u001b[0;34m=\u001b[0m \u001b[0mCorpus\u001b[0m\u001b[0;34m.\u001b[0m\u001b[0mload\u001b[0m\u001b[0;34m(\u001b[0m\u001b[0moutput\u001b[0m\u001b[0;34m.\u001b[0m\u001b[0msplitlines\u001b[0m\u001b[0;34m(\u001b[0m\u001b[0;34m)\u001b[0m\u001b[0;34m)\u001b[0m\u001b[0;34m\u001b[0m\u001b[0;34m\u001b[0m\u001b[0m\n\u001b[0m\u001b[1;32m    244\u001b[0m         \u001b[0;32mreturn\u001b[0m \u001b[0;34m(\u001b[0m\u001b[0mconcepts\u001b[0m\u001b[0;34m,\u001b[0m \u001b[0merror\u001b[0m\u001b[0;34m)\u001b[0m\u001b[0;34m\u001b[0m\u001b[0;34m\u001b[0m\u001b[0m\n",
      "\u001b[0;32m~/anaconda3/envs/JargonTerm/lib/python3.7/site-packages/pymetamap-0.2-py3.7.egg/pymetamap/Concept.py\u001b[0m in \u001b[0;36mload\u001b[0;34m(this_class, stream)\u001b[0m\n\u001b[1;32m     73\u001b[0m         \u001b[0;32mfor\u001b[0m \u001b[0mline\u001b[0m \u001b[0;32min\u001b[0m \u001b[0mstream\u001b[0m\u001b[0;34m:\u001b[0m\u001b[0;34m\u001b[0m\u001b[0;34m\u001b[0m\u001b[0m\n\u001b[1;32m     74\u001b[0m             \u001b[0mfields\u001b[0m \u001b[0;34m=\u001b[0m \u001b[0mline\u001b[0m\u001b[0;34m.\u001b[0m\u001b[0msplit\u001b[0m\u001b[0;34m(\u001b[0m\u001b[0;34m'|'\u001b[0m\u001b[0;34m)\u001b[0m\u001b[0;34m\u001b[0m\u001b[0;34m\u001b[0m\u001b[0m\n\u001b[0;32m---> 75\u001b[0;31m             \u001b[0;32mif\u001b[0m \u001b[0mfields\u001b[0m\u001b[0;34m[\u001b[0m\u001b[0;36m1\u001b[0m\u001b[0;34m]\u001b[0m \u001b[0;34m==\u001b[0m \u001b[0;34m'MMI'\u001b[0m\u001b[0;34m:\u001b[0m\u001b[0;34m\u001b[0m\u001b[0;34m\u001b[0m\u001b[0m\n\u001b[0m\u001b[1;32m     76\u001b[0m                 \u001b[0mcorpus\u001b[0m\u001b[0;34m.\u001b[0m\u001b[0mappend\u001b[0m\u001b[0;34m(\u001b[0m\u001b[0mConceptMMI\u001b[0m\u001b[0;34m.\u001b[0m\u001b[0mfrom_mmi\u001b[0m\u001b[0;34m(\u001b[0m\u001b[0mline\u001b[0m\u001b[0;34m)\u001b[0m\u001b[0;34m)\u001b[0m\u001b[0;34m\u001b[0m\u001b[0;34m\u001b[0m\u001b[0m\n\u001b[1;32m     77\u001b[0m             \u001b[0;32melif\u001b[0m \u001b[0mfields\u001b[0m\u001b[0;34m[\u001b[0m\u001b[0;36m1\u001b[0m\u001b[0;34m]\u001b[0m \u001b[0;34m==\u001b[0m \u001b[0;34m'AA'\u001b[0m\u001b[0;34m:\u001b[0m\u001b[0;34m\u001b[0m\u001b[0;34m\u001b[0m\u001b[0m\n",
      "\u001b[0;31mIndexError\u001b[0m: list index out of range"
     ]
    }
   ],
   "source": [
    "concepts,error = mm.extract_concepts(sents)"
   ]
  },
  {
   "cell_type": "code",
   "execution_count": 5,
   "id": "37d9a096-0055-49a0-a2bb-ef3661d70503",
   "metadata": {},
   "outputs": [],
   "source": [
    "concepts"
   ]
  },
  {
   "cell_type": "code",
   "execution_count": null,
   "id": "9a466301-8d5c-4eb6-a62f-ff92a72c0947",
   "metadata": {},
   "outputs": [],
   "source": []
  }
 ],
 "metadata": {
  "kernelspec": {
   "display_name": "Python 3",
   "language": "python",
   "name": "python3"
  },
  "language_info": {
   "codemirror_mode": {
    "name": "ipython",
    "version": 3
   },
   "file_extension": ".py",
   "mimetype": "text/x-python",
   "name": "python",
   "nbconvert_exporter": "python",
   "pygments_lexer": "ipython3",
   "version": "3.7.12"
  }
 },
 "nbformat": 4,
 "nbformat_minor": 5
}
